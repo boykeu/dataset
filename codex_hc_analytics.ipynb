{
  "nbformat": 4,
  "nbformat_minor": 0,
  "metadata": {
    "colab": {
      "name": "codex_hc_analytics.ipynb",
      "private_outputs": true,
      "provenance": [],
      "collapsed_sections": [],
      "authorship_tag": "ABX9TyPo8wUGYRpMP8nkkVLec16h",
      "include_colab_link": true
    },
    "kernelspec": {
      "name": "python3",
      "display_name": "Python 3"
    },
    "language_info": {
      "name": "python"
    }
  },
  "cells": [
    {
      "cell_type": "markdown",
      "metadata": {
        "id": "view-in-github",
        "colab_type": "text"
      },
      "source": [
        "<a href=\"https://colab.research.google.com/github/boykeu/dataset/blob/master/codex_hc_analytics.ipynb\" target=\"_parent\"><img src=\"https://colab.research.google.com/assets/colab-badge.svg\" alt=\"Open In Colab\"/></a>"
      ]
    },
    {
      "cell_type": "markdown",
      "metadata": {
        "id": "5Fn56_LIE6g-"
      },
      "source": [
        "# Problems Statement\n",
        "\n",
        "## Perusahaan X yang bergerak di produk digital, sedang berfokus pada pengelolaan talent nya. Manager HR merekrut Anda selaku Data Scientist untuk membantu dalam melihat kondisi talent perusahaan X berdasarkan data.\n",
        "\n",
        "#### Fakta yang ada:\n",
        "\n",
        "#### a. Untuk mengurangi cost dalam rekrutmen, Perusahaan X berupaya mempertahankan talent eksisting.\n",
        "\n",
        "#### b. Sudah dilakukan pengukuran performansi, employee satisfaction dan employee engagement namun belum ada tindak lanjut dari hasil pengukuran. \n",
        "\n",
        "\n",
        "## Tugas Anda:\n",
        "\n",
        "#### 1. Berikan insight ke Management terkait kondisi talent di perusahaan X dengan visualisasi profil talent (dalam bentuk ppt/ Tableau/ Power BI/ Google Data Studio atau platform visualisasi lainnya)\n",
        "\n",
        "## Pilih minimal 1 dari pilihan berikut (buatlah dalam bentuk Power Point dengan rincian minimal terdapat rumusan masalah, metodologi, analisis, rekomendasi dan link git model):\n",
        "\n",
        "#### 2. Bagaimana memprediksi talent yang berpotensi akan terminate (resign, performansi rendah dan lainnya)?\n",
        "\n",
        "#### 3. Bagaimana membuat rekomendasi terkait kebutuhan development talent?.\n",
        "\n",
        "\n",
        "#### Diperbolehkan menambahkan asumsi dan data lainnya di luar dataset untuk mempertajam analisis (jika dibutuhkan).\n",
        "\n",
        "\n",
        "###### Dataset dapat diunduh melalui http://bit.ly/datasethrcodex"
      ]
    },
    {
      "cell_type": "code",
      "metadata": {
        "id": "c0R5mGG_FMuK"
      },
      "source": [
        "# The libraries\n",
        "\n",
        "import numpy as np\n",
        "import pandas as pd"
      ],
      "execution_count": null,
      "outputs": []
    },
    {
      "cell_type": "code",
      "metadata": {
        "id": "HQ8ACAzUCgbm"
      },
      "source": [
        "from google.colab import files\n",
        "file_upload = files.upload()"
      ],
      "execution_count": null,
      "outputs": []
    },
    {
      "cell_type": "code",
      "metadata": {
        "id": "cW-HttiSG92x"
      },
      "source": [
        "df = pd.read_csv('dataset HR analytics.csv')\n",
        "df.head(10)"
      ],
      "execution_count": null,
      "outputs": []
    },
    {
      "cell_type": "code",
      "metadata": {
        "id": "JzJ-YvFpHInW"
      },
      "source": [
        "df.shape"
      ],
      "execution_count": null,
      "outputs": []
    },
    {
      "cell_type": "code",
      "metadata": {
        "id": "hVjM7s01HPda"
      },
      "source": [
        "df.dtypes"
      ],
      "execution_count": null,
      "outputs": []
    },
    {
      "cell_type": "code",
      "metadata": {
        "id": "hiEZ7fcPHS7c"
      },
      "source": [
        "df.isna().sum()"
      ],
      "execution_count": null,
      "outputs": []
    },
    {
      "cell_type": "code",
      "metadata": {
        "id": "U6R6eSuQHndJ"
      },
      "source": [
        "#check missing /null values in the data\n",
        "\n",
        "df.isnull().values.any()"
      ],
      "execution_count": null,
      "outputs": []
    },
    {
      "cell_type": "code",
      "metadata": {
        "id": "AAjM2diIH9TR"
      },
      "source": [
        "df.describe()"
      ],
      "execution_count": null,
      "outputs": []
    },
    {
      "cell_type": "code",
      "metadata": {
        "id": "JRG7NN1iIAJs"
      },
      "source": [
        "# Create target field 'isAttrition'\n",
        "df = df.assign(isAttrition=np.where(df['DateofTermination'].isnull(), False, True))\n",
        "\n",
        "# Check how many employee terminated or still employed\n",
        "df.isAttrition.value_counts()"
      ],
      "execution_count": null,
      "outputs": []
    },
    {
      "cell_type": "code",
      "metadata": {
        "id": "4OmEq_5RcB5M"
      },
      "source": [
        "import seaborn as sns\n",
        "sns.set(rc={'figure.figsize':(32, 8.27)})\n",
        "\n",
        "sns.countplot(df['isAttrition'])"
      ],
      "execution_count": null,
      "outputs": []
    },
    {
      "cell_type": "code",
      "metadata": {
        "id": "Q8Cn_IuzciHN"
      },
      "source": [
        "# Count no of employees that left and stayed by squad\n",
        "sns.countplot(x = 'Squad', hue = 'isAttrition', data = df, palette = 'colorblind')"
      ],
      "execution_count": null,
      "outputs": []
    },
    {
      "cell_type": "code",
      "metadata": {
        "id": "pGceL5bhdoy_"
      },
      "source": [
        "# print all of the data types and their unique value counts\n",
        "\n",
        "for column in df.columns:\n",
        "  if df[column].dtype == object:\n",
        "    print(str(column) + ' : ' + str(df[column].unique()))\n",
        "    print(df[column].value_counts())\n",
        "    print('___________________________________________________________________________')"
      ],
      "execution_count": null,
      "outputs": []
    },
    {
      "cell_type": "code",
      "metadata": {
        "id": "K7pabtdBjxN4"
      },
      "source": [
        "df.corr()"
      ],
      "execution_count": null,
      "outputs": []
    },
    {
      "cell_type": "code",
      "metadata": {
        "id": "XwLXeEMZj8w5"
      },
      "source": [
        "sns.set(rc={'figure.figsize':(14,14)})\n",
        "sns.heatmap(df.corr(), annot=True, fmt='.0%')"
      ],
      "execution_count": null,
      "outputs": []
    },
    {
      "cell_type": "code",
      "metadata": {
        "id": "R9Ct1ua2osBZ"
      },
      "source": [
        "# Transform the data (Non-numerical ---> Numerical)\n",
        "from sklearn.preprocessing import LabelEncoder\n",
        "\n",
        "le = LabelEncoder()\n",
        "\n",
        "df = df.apply(lambda col: le.fit_transform(col.astype(str)), axis=0, result_type='expand')\n",
        "df"
      ],
      "execution_count": null,
      "outputs": []
    }
  ]
}